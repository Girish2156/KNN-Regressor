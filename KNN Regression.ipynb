{
 "cells": [
  {
   "cell_type": "code",
   "execution_count": 2,
   "metadata": {},
   "outputs": [],
   "source": [
    "#Importing the libraries\n",
    "import numpy as np\n",
    "import pandas as pd\n",
    "import matplotlib.pyplot as plt\n",
    "import seaborn as sns\n",
    "from sklearn.preprocessing import StandardScaler\n",
    "from scipy.stats import skew\n",
    "\n",
    "import warnings\n",
    "warnings.filterwarnings('ignore')\n",
    "\n",
    "%matplotlib inline\n",
    "pd.set_option('display.max_columns', None)"
   ]
  },
  {
   "cell_type": "code",
   "execution_count": 3,
   "metadata": {},
   "outputs": [],
   "source": [
    "#Importing the dataset\n",
    "df = pd.read_csv('Advertising.csv', index_col=0)"
   ]
  },
  {
   "cell_type": "code",
   "execution_count": 4,
   "metadata": {},
   "outputs": [
    {
     "data": {
      "text/html": [
       "<div>\n",
       "<style scoped>\n",
       "    .dataframe tbody tr th:only-of-type {\n",
       "        vertical-align: middle;\n",
       "    }\n",
       "\n",
       "    .dataframe tbody tr th {\n",
       "        vertical-align: top;\n",
       "    }\n",
       "\n",
       "    .dataframe thead th {\n",
       "        text-align: right;\n",
       "    }\n",
       "</style>\n",
       "<table border=\"1\" class=\"dataframe\">\n",
       "  <thead>\n",
       "    <tr style=\"text-align: right;\">\n",
       "      <th></th>\n",
       "      <th>TV</th>\n",
       "      <th>radio</th>\n",
       "      <th>newspaper</th>\n",
       "      <th>sales</th>\n",
       "    </tr>\n",
       "  </thead>\n",
       "  <tbody>\n",
       "    <tr>\n",
       "      <th>1</th>\n",
       "      <td>230.1</td>\n",
       "      <td>37.8</td>\n",
       "      <td>69.2</td>\n",
       "      <td>22.1</td>\n",
       "    </tr>\n",
       "    <tr>\n",
       "      <th>2</th>\n",
       "      <td>44.5</td>\n",
       "      <td>39.3</td>\n",
       "      <td>45.1</td>\n",
       "      <td>10.4</td>\n",
       "    </tr>\n",
       "    <tr>\n",
       "      <th>3</th>\n",
       "      <td>17.2</td>\n",
       "      <td>45.9</td>\n",
       "      <td>69.3</td>\n",
       "      <td>9.3</td>\n",
       "    </tr>\n",
       "    <tr>\n",
       "      <th>4</th>\n",
       "      <td>151.5</td>\n",
       "      <td>41.3</td>\n",
       "      <td>58.5</td>\n",
       "      <td>18.5</td>\n",
       "    </tr>\n",
       "    <tr>\n",
       "      <th>5</th>\n",
       "      <td>180.8</td>\n",
       "      <td>10.8</td>\n",
       "      <td>58.4</td>\n",
       "      <td>12.9</td>\n",
       "    </tr>\n",
       "  </tbody>\n",
       "</table>\n",
       "</div>"
      ],
      "text/plain": [
       "      TV  radio  newspaper  sales\n",
       "1  230.1   37.8       69.2   22.1\n",
       "2   44.5   39.3       45.1   10.4\n",
       "3   17.2   45.9       69.3    9.3\n",
       "4  151.5   41.3       58.5   18.5\n",
       "5  180.8   10.8       58.4   12.9"
      ]
     },
     "execution_count": 4,
     "metadata": {},
     "output_type": "execute_result"
    }
   ],
   "source": [
    "df.head()"
   ]
  },
  {
   "cell_type": "code",
   "execution_count": 5,
   "metadata": {},
   "outputs": [
    {
     "data": {
      "text/plain": [
       "TV           0\n",
       "radio        0\n",
       "newspaper    0\n",
       "sales        0\n",
       "dtype: int64"
      ]
     },
     "execution_count": 5,
     "metadata": {},
     "output_type": "execute_result"
    }
   ],
   "source": [
    "df.isnull().sum()"
   ]
  },
  {
   "cell_type": "code",
   "execution_count": 6,
   "metadata": {},
   "outputs": [
    {
     "data": {
      "text/plain": [
       "Index(['TV', 'radio', 'newspaper', 'sales'], dtype='object')"
      ]
     },
     "execution_count": 6,
     "metadata": {},
     "output_type": "execute_result"
    }
   ],
   "source": [
    "df.columns"
   ]
  },
  {
   "cell_type": "code",
   "execution_count": 16,
   "metadata": {},
   "outputs": [],
   "source": [
    "X = df[['TV','radio','newspaper']]\n",
    "y = df['sales']"
   ]
  },
  {
   "cell_type": "code",
   "execution_count": 17,
   "metadata": {},
   "outputs": [],
   "source": [
    "from sklearn.model_selection import train_test_split\n",
    "\n",
    "#split the data into test and train\n",
    "X_train, X_test, y_train, y_test = train_test_split(X, y, test_size=0.3, random_state=10)"
   ]
  },
  {
   "cell_type": "code",
   "execution_count": 19,
   "metadata": {},
   "outputs": [],
   "source": [
    "#predicting using KNeighbors_Regressor\n",
    "\n",
    "from sklearn.neighbors import KNeighborsRegressor\n",
    "model_KNN = KNeighborsRegressor(n_neighbors=3, metric='euclidean')\n",
    "\n",
    "#fit the model on the data and predict the values\n",
    "model_KNN.fit(X_train, y_train)\n",
    "y_pred = model_KNN.predict(X_test)"
   ]
  },
  {
   "cell_type": "code",
   "execution_count": 28,
   "metadata": {},
   "outputs": [],
   "source": [
    "import joblib\n",
    "\n",
    "#save model on disk\n",
    "joblib.dump(model_KNN,'tranied_knn_model.pkl')\n",
    "\n",
    "#load model on disk\n",
    "model = joblib.load('tranied_knn_model.pkl')"
   ]
  },
  {
   "cell_type": "code",
   "execution_count": 23,
   "metadata": {},
   "outputs": [
    {
     "name": "stdout",
     "output_type": "stream",
     "text": [
      "0.925958613863326\n",
      "2.778240740740741\n"
     ]
    }
   ],
   "source": [
    "from sklearn.metrics import r2_score, mean_squared_error\n",
    "r2 = r2_score(y_test, y_pred)\n",
    "mse = mean_squared_error(y_test, y_pred)\n",
    "print(r2)\n",
    "print(mse)"
   ]
  },
  {
   "cell_type": "code",
   "execution_count": 29,
   "metadata": {},
   "outputs": [
    {
     "data": {
      "text/plain": [
       "(1.6, 27.0)"
      ]
     },
     "execution_count": 29,
     "metadata": {},
     "output_type": "execute_result"
    }
   ],
   "source": [
    "min(y_test), max(y_test)"
   ]
  },
  {
   "cell_type": "code",
   "execution_count": 33,
   "metadata": {},
   "outputs": [
    {
     "name": "stdout",
     "output_type": "stream",
     "text": [
      "Accuracy is: 0.9383841428002567 for K-Value: 1\n",
      "Accuracy is: 0.9182264031854402 for K-Value: 2\n",
      "Accuracy is: 0.925958613863326 for K-Value: 3\n",
      "Accuracy is: 0.932788657210048 for K-Value: 4\n",
      "Accuracy is: 0.9149539491202795 for K-Value: 5\n",
      "Accuracy is: 0.8929665815850817 for K-Value: 6\n",
      "Accuracy is: 0.8744848671701098 for K-Value: 7\n",
      "Accuracy is: 0.8654478098543175 for K-Value: 8\n",
      "Accuracy is: 0.8492939672848692 for K-Value: 9\n",
      "Accuracy is: 0.8402713283054284 for K-Value: 10\n",
      "Accuracy is: 0.8371675782423147 for K-Value: 11\n",
      "Accuracy is: 0.8373829505130865 for K-Value: 12\n",
      "Accuracy is: 0.8276548833014651 for K-Value: 13\n",
      "Accuracy is: 0.8283131539137829 for K-Value: 14\n",
      "Accuracy is: 0.8161422263836416 for K-Value: 15\n",
      "Accuracy is: 0.8004112554208694 for K-Value: 16\n",
      "Accuracy is: 0.7942012190658417 for K-Value: 17\n",
      "Accuracy is: 0.7802634154775825 for K-Value: 18\n",
      "Accuracy is: 0.7676471516517576 for K-Value: 19\n",
      "Accuracy is: 0.7573316851506093 for K-Value: 20\n",
      "Accuracy is: 0.7503499480255902 for K-Value: 21\n",
      "Accuracy is: 0.7463504736257043 for K-Value: 22\n",
      "Accuracy is: 0.7323403978622665 for K-Value: 23\n",
      "Accuracy is: 0.7286293823438204 for K-Value: 24\n",
      "Accuracy is: 0.7232814086188022 for K-Value: 25\n",
      "Accuracy is: 0.7156764624658211 for K-Value: 26\n",
      "Accuracy is: 0.7083731428727634 for K-Value: 27\n",
      "Accuracy is: 0.7056139217692052 for K-Value: 28\n",
      "Accuracy is: 0.6971706745116943 for K-Value: 29\n",
      "Accuracy is: 0.6885434742863679 for K-Value: 30\n",
      "Accuracy is: 0.6816253317608413 for K-Value: 31\n",
      "Accuracy is: 0.6775894175933992 for K-Value: 32\n",
      "Accuracy is: 0.6705591692753743 for K-Value: 33\n",
      "Accuracy is: 0.6644524650144874 for K-Value: 34\n",
      "Accuracy is: 0.6549996346213245 for K-Value: 35\n",
      "Accuracy is: 0.6456939261828452 for K-Value: 36\n",
      "Accuracy is: 0.6461158067428906 for K-Value: 37\n",
      "Accuracy is: 0.642991295752104 for K-Value: 38\n",
      "Accuracy is: 0.6376277430595487 for K-Value: 39\n",
      "Accuracy is: 0.634176957259551 for K-Value: 40\n"
     ]
    }
   ],
   "source": [
    "acc_dict = dict()\n",
    "\n",
    "for K in range(1, 41):\n",
    "    \n",
    "    #create object with k value\n",
    "    model_KNN = KNeighborsRegressor(n_neighbors=K, metric='euclidean')\n",
    "    \n",
    "    #model fit\n",
    "    model_KNN.fit(X_train,y_train)\n",
    "    \n",
    "    #model prediction\n",
    "    y_pred = model_KNN.predict(X_test)\n",
    "    r2 = r2_score(y_test, y_pred)\n",
    "    \n",
    "    #print accuracy score\n",
    "    print('Accuracy is: {} for K-Value: {}'.format(r2,K))\n",
    "    acc_dict[K] = r2"
   ]
  }
 ],
 "metadata": {
  "kernelspec": {
   "display_name": "Python 3",
   "language": "python",
   "name": "python3"
  },
  "language_info": {
   "codemirror_mode": {
    "name": "ipython",
    "version": 3
   },
   "file_extension": ".py",
   "mimetype": "text/x-python",
   "name": "python",
   "nbconvert_exporter": "python",
   "pygments_lexer": "ipython3",
   "version": "3.7.6"
  }
 },
 "nbformat": 4,
 "nbformat_minor": 4
}
